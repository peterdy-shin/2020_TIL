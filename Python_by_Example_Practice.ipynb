{
 "cells": [
  {
   "cell_type": "markdown",
   "metadata": {},
   "source": [
    "# Notes\n",
    "\n",
    "- python is case sensitive\n",
    "- text values appear in \"\". Numbers without\n",
    "- variable = container for putting data in. No space + don't start with number\n"
   ]
  },
  {
   "cell_type": "code",
   "execution_count": 3,
   "metadata": {},
   "outputs": [
    {
     "name": "stdout",
     "output_type": "stream",
     "text": [
      "I love \n",
      " you\n"
     ]
    }
   ],
   "source": [
    "# \\n  puts a line break \n",
    "\n",
    "print(\"I love \\n you\")   "
   ]
  },
  {
   "cell_type": "code",
   "execution_count": 5,
   "metadata": {},
   "outputs": [
    {
     "name": "stdout",
     "output_type": "stream",
     "text": [
      "The answer is 1\n"
     ]
    }
   ],
   "source": [
    "\n",
    "answer = 1\n",
    "print(\"The answer is\", answer )  "
   ]
  },
  {
   "cell_type": "code",
   "execution_count": 9,
   "metadata": {},
   "outputs": [
    {
     "name": "stdout",
     "output_type": "stream",
     "text": [
      "The answer is: 1\n"
     ]
    }
   ],
   "source": [
    "textValue = input(\"The answer is: \")"
   ]
  },
  {
   "cell_type": "code",
   "execution_count": 10,
   "metadata": {},
   "outputs": [
    {
     "name": "stdout",
     "output_type": "stream",
     "text": [
      "The number is : 1\n"
     ]
    }
   ],
   "source": [
    "numbValue = int(input(\"The number is : \"))"
   ]
  },
  {
   "cell_type": "code",
   "execution_count": 11,
   "metadata": {},
   "outputs": [
    {
     "data": {
      "text/plain": [
       "1"
      ]
     },
     "execution_count": 11,
     "metadata": {},
     "output_type": "execute_result"
    }
   ],
   "source": [
    "numbValue"
   ]
  },
  {
   "cell_type": "code",
   "execution_count": 18,
   "metadata": {},
   "outputs": [
    {
     "name": "stdout",
     "output_type": "stream",
     "text": [
      "What is your first name? :Peter\n",
      "Hello Peter\n"
     ]
    }
   ],
   "source": [
    "# Challenges\n",
    "\n",
    "#001\n",
    "First_name = input(\"What is your first name? :\")\n",
    "\n",
    "print (\"Hello\", First_name)"
   ]
  },
  {
   "cell_type": "code",
   "execution_count": 19,
   "metadata": {},
   "outputs": [
    {
     "name": "stdout",
     "output_type": "stream",
     "text": [
      "What is your first name? :Peter\n",
      "What is your last name? :Shin\n",
      "Hello Peter Shin\n"
     ]
    }
   ],
   "source": [
    "#002\n",
    "\n",
    "First_name = input(\"What is your first name? :\")\n",
    "Last_name = input(\"What is your last name? :\")\n",
    "\n",
    "print(\"Hello\", First_name, Last_name)"
   ]
  },
  {
   "cell_type": "code",
   "execution_count": 20,
   "metadata": {},
   "outputs": [
    {
     "name": "stdout",
     "output_type": "stream",
     "text": [
      "What do you call a bear with no teeth? \n",
      " A gummy bear!\n"
     ]
    }
   ],
   "source": [
    "#003\n",
    "\n",
    "print(\"What do you call a bear with no teeth? \\n A gummy bear!\")"
   ]
  },
  {
   "cell_type": "code",
   "execution_count": 28,
   "metadata": {},
   "outputs": [
    {
     "name": "stdout",
     "output_type": "stream",
     "text": [
      "enter a number : 1\n",
      "enter a number again:2\n",
      "The total is 3\n"
     ]
    }
   ],
   "source": [
    "#004\n",
    "no1 = int(input(\"enter a number : \"))\n",
    "no2 = int(input(\"enter a number again:\"))\n",
    "          \n",
    "answer = no1 + no2\n",
    "print(\"The total is\", answer)"
   ]
  },
  {
   "cell_type": "code",
   "execution_count": 29,
   "metadata": {},
   "outputs": [
    {
     "name": "stdout",
     "output_type": "stream",
     "text": [
      "enter a number:1\n",
      "enter a number again:2\n",
      "enter a number finally:5\n",
      "The answer is 15\n"
     ]
    }
   ],
   "source": [
    "#005\n",
    "no1 = int(input(\"enter a number:\"))\n",
    "no2 = int(input(\"enter a number again:\"))\n",
    "no3 = int(input(\"enter a number finally:\"))\n",
    "\n",
    "answer = (no1 + no2)*no3\n",
    "print(\"The answer is\", answer)"
   ]
  },
  {
   "cell_type": "code",
   "execution_count": 31,
   "metadata": {},
   "outputs": [
    {
     "name": "stdout",
     "output_type": "stream",
     "text": [
      "How many sliced of pizza do you have?: 10\n",
      "How many have you eaten? :5\n",
      "You now have 5 slices left.\n"
     ]
    }
   ],
   "source": [
    "#006\n",
    "\n",
    "pizza_start = int(input(\"How many sliced of pizza do you have?: \"))\n",
    "pizza_eaten = int(input(\"How many have you eaten? :\"))\n",
    "answer = pizza_start - pizza_eaten\n",
    "print(\"You now have\", answer, \"slices left.\")"
   ]
  },
  {
   "cell_type": "code",
   "execution_count": 32,
   "metadata": {},
   "outputs": [
    {
     "name": "stdout",
     "output_type": "stream",
     "text": [
      "what is your name?:Peter\n",
      "what is your age?: 10\n",
      "Peter , next birthday you will be 11 years old!\n"
     ]
    }
   ],
   "source": [
    "#007\n",
    "\n",
    "name = input(\"what is your name?:\")\n",
    "age = int(input(\"what is your age?: \"))\n",
    "\n",
    "age_next = age + 1\n",
    "print(name, \", next birthday you will be\", age_next, \"years old!\")"
   ]
  },
  {
   "cell_type": "code",
   "execution_count": 35,
   "metadata": {},
   "outputs": [
    {
     "name": "stdout",
     "output_type": "stream",
     "text": [
      "What is the total price of the bill?:12\n",
      "How many diners are there?:3\n",
      "You will each need to pay 4.0 dollars.\n"
     ]
    }
   ],
   "source": [
    "#008\n",
    "total_bill = int(input(\"What is the total price of the bill?:\"))\n",
    "diners = int(input(\"How many diners are there?:\"))\n",
    "\n",
    "pay = (total_bill) / diners\n",
    "\n",
    "print(\"You will each need to pay\", pay, \"dollars.\")"
   ]
  },
  {
   "cell_type": "code",
   "execution_count": 37,
   "metadata": {},
   "outputs": [
    {
     "name": "stdout",
     "output_type": "stream",
     "text": [
      "Give me a number of days! :12\n",
      "your number of days are actually 288 hours, 17280 minutes, 1036800 seconds.\n"
     ]
    }
   ],
   "source": [
    "#009\n",
    "\n",
    "days = int(input(\"Give me a number of days! :\"))\n",
    "\n",
    "hours = days * 24\n",
    "minutes = hours * 60\n",
    "secs = minutes * 60\n",
    "\n",
    "print (\"your number of days are actually\", hours, \"hours,\", minutes, \"minutes,\", secs, \"seconds.\")"
   ]
  },
  {
   "cell_type": "code",
   "execution_count": 40,
   "metadata": {},
   "outputs": [
    {
     "name": "stdout",
     "output_type": "stream",
     "text": [
      "Give me a weight in kilograms :12\n",
      "That is 26448 pounds.\n"
     ]
    }
   ],
   "source": [
    "#010\n",
    "\n",
    "kilo = int(input(\"Give me a weight in kilograms :\"))\n",
    "pounds = kilo * 2204\n",
    "print(\"That is\", pounds, \"pounds.\")"
   ]
  },
  {
   "cell_type": "code",
   "execution_count": null,
   "metadata": {},
   "outputs": [
    {
     "name": "stdout",
     "output_type": "stream",
     "text": [
      "give me a number over 100 :200\n"
     ]
    }
   ],
   "source": [
    "#011 \n",
    "\n",
    "over = int(input(\"give me a number over 100 :\"))\n",
    "under = int(input(\"give me a number lower than 10 : \"))\n",
    "times = over // under\n",
    "print(\"the smaller number\", under, \"you entered goes into\", over, \"a\", times, \"times!\")"
   ]
  },
  {
   "cell_type": "markdown",
   "metadata": {},
   "source": [
    "# If Statements\n"
   ]
  },
  {
   "cell_type": "code",
   "execution_count": null,
   "metadata": {},
   "outputs": [],
   "source": [
    "# Comparison Operators\n",
    "==\n",
    ">=\n",
    "<=\n",
    "!=\n",
    "<\n",
    ">"
   ]
  },
  {
   "cell_type": "code",
   "execution_count": 1,
   "metadata": {},
   "outputs": [
    {
     "ename": "NameError",
     "evalue": "name 'num' is not defined",
     "output_type": "error",
     "traceback": [
      "\u001b[0;31m---------------------------------------------------------------------------\u001b[0m",
      "\u001b[0;31mNameError\u001b[0m                                 Traceback (most recent call last)",
      "\u001b[0;32m<ipython-input-1-f341e60cbec9>\u001b[0m in \u001b[0;36m<module>\u001b[0;34m\u001b[0m\n\u001b[1;32m      1\u001b[0m \u001b[0;31m# practice\u001b[0m\u001b[0;34m\u001b[0m\u001b[0;34m\u001b[0m\u001b[0;34m\u001b[0m\u001b[0m\n\u001b[1;32m      2\u001b[0m \u001b[0;34m\u001b[0m\u001b[0m\n\u001b[0;32m----> 3\u001b[0;31m \u001b[0;32mif\u001b[0m \u001b[0mnum\u001b[0m \u001b[0;34m>\u001b[0m \u001b[0;36m10\u001b[0m \u001b[0;34m:\u001b[0m\u001b[0;34m\u001b[0m\u001b[0;34m\u001b[0m\u001b[0m\n\u001b[0m\u001b[1;32m      4\u001b[0m     \u001b[0mprint\u001b[0m\u001b[0;34m(\u001b[0m\u001b[0;34m\"This number is over 10\"\u001b[0m\u001b[0;34m)\u001b[0m\u001b[0;34m\u001b[0m\u001b[0;34m\u001b[0m\u001b[0m\n\u001b[1;32m      5\u001b[0m \u001b[0;32melif\u001b[0m \u001b[0mnum\u001b[0m \u001b[0;34m==\u001b[0m \u001b[0;36m10\u001b[0m \u001b[0;34m:\u001b[0m\u001b[0;34m\u001b[0m\u001b[0;34m\u001b[0m\u001b[0m\n",
      "\u001b[0;31mNameError\u001b[0m: name 'num' is not defined"
     ]
    }
   ],
   "source": [
    "# practice\n",
    "\n",
    "if num > 10 :\n",
    "    print(\"This number is over 10\")\n",
    "elif num == 10 :\n",
    "    print(\"This number is 10\")\n",
    "else num < 10 : \n",
    "    print(\"This number is less than 10\")"
   ]
  },
  {
   "cell_type": "code",
   "execution_count": 10,
   "metadata": {},
   "outputs": [
    {
     "name": "stdout",
     "output_type": "stream",
     "text": [
      "Enter a larger number:5\n",
      "Enter a smaller number:10\n",
      "10\n"
     ]
    }
   ],
   "source": [
    "# Challenges\n",
    "\n",
    "#012\n",
    "num1 = int(input(\"Enter a larger number:\"))\n",
    "num2 = int(input(\"Enter a smaller number:\"))\n",
    "\n",
    "if num1 < num2 : \n",
    "    print(num2)\n",
    "else : \n",
    "    print(num1, num2)"
   ]
  },
  {
   "cell_type": "code",
   "execution_count": 15,
   "metadata": {},
   "outputs": [
    {
     "name": "stdout",
     "output_type": "stream",
     "text": [
      "Enter a number less than 2021\n",
      "Too high\n"
     ]
    }
   ],
   "source": [
    "#013 \n",
    "num1 = int(input(\"Enter a number less than 20\"))\n",
    "\n",
    "if num1 >= 20:\n",
    "    print(\"Too high\")\n",
    "else : \n",
    "    print(\"Thank you\")"
   ]
  },
  {
   "cell_type": "code",
   "execution_count": 38,
   "metadata": {},
   "outputs": [
    {
     "name": "stdout",
     "output_type": "stream",
     "text": [
      "Enter a numner bet. 10 and 209\n",
      "Incorrect Answer\n"
     ]
    }
   ],
   "source": [
    "#014 \n",
    "\n",
    "num1 = int(input(\"Enter a numner bet. 10 and 20\"))\n",
    "\n",
    "if num1 >= 10 : \n",
    "    if num1 <= 20 : \n",
    "        print(\"Thank you\")\n",
    "    else: \n",
    "        print(\"Incorrect Answer\")\n",
    "else :\n",
    "    print(\"Incorrect Answer\")\n",
    "    \n",
    "\n",
    "    "
   ]
  },
  {
   "cell_type": "code",
   "execution_count": 44,
   "metadata": {},
   "outputs": [
    {
     "name": "stdout",
     "output_type": "stream",
     "text": [
      "Enter a numner bet. 10 and 2021\n",
      "Incorrect Answer\n"
     ]
    }
   ],
   "source": [
    "#014 \n",
    "\n",
    "num1 = int(input(\"Enter a numner bet. 10 and 20\"))\n",
    "\n",
    "if num1 >= 10 and num1 <= 20: \n",
    "    print(\"Thank you\")\n",
    "\n",
    "else :\n",
    "    print(\"Incorrect Answer\") "
   ]
  },
  {
   "cell_type": "code",
   "execution_count": 54,
   "metadata": {},
   "outputs": [
    {
     "name": "stdout",
     "output_type": "stream",
     "text": [
      "what is your fav color?:red\n",
      "I like red too.\n"
     ]
    }
   ],
   "source": [
    "#015 \n",
    "\n",
    "color = str.lower(input(\"what is your fav color?:\"))\n",
    "\n",
    "\n",
    "if color == \"red\" : \n",
    "    print(\"I like red too.\")\n",
    "else :\n",
    "    print(\"I don't like\", color,\", \" \"I prefer red.\")"
   ]
  },
  {
   "cell_type": "code",
   "execution_count": 78,
   "metadata": {},
   "outputs": [
    {
     "name": "stdout",
     "output_type": "stream",
     "text": [
      "is it raining?: no\n",
      "enjoy your day!\n"
     ]
    }
   ],
   "source": [
    "#016\n",
    "\n",
    "weather = str.lower(input(\"is it raining?: \"))\n",
    "\n",
    "if weather == \"yes\" : \n",
    "    weather2 = str.lower(input(\"Is it windy?:\"))\n",
    "    if weather2 == \"yes\" :\n",
    "           print(\"It is too windy for an umbrella.\")\n",
    "    else : \n",
    "        print(\"Take an umbrella.\")\n",
    "else :\n",
    "    print(\"enjoy your day!\")\n",
    "\n",
    "\n",
    "                         "
   ]
  },
  {
   "cell_type": "code",
   "execution_count": 85,
   "metadata": {},
   "outputs": [
    {
     "name": "stdout",
     "output_type": "stream",
     "text": [
      "What is your age?: 5\n",
      "You can go Trick-or-Treating.\n"
     ]
    }
   ],
   "source": [
    "#017\n",
    "\n",
    "age = int(input(\"What is your age?: \"))\n",
    "\n",
    "if age >= 18: \n",
    "    print(\"you can vote.\")\n",
    "elif age == 17:\n",
    "    print(\"You can learn to drive.\")\n",
    "elif age == 16:\n",
    "    print(\"You can buy a lottery ticket.\")\n",
    "else : \n",
    "    print(\"You can go Trick-or-Treating.\")"
   ]
  },
  {
   "cell_type": "code",
   "execution_count": 90,
   "metadata": {},
   "outputs": [
    {
     "name": "stdout",
     "output_type": "stream",
     "text": [
      "Enter a number : 21\n",
      "Too high\n"
     ]
    }
   ],
   "source": [
    "#018 \n",
    "number = int(input(\"Enter a number : \"))\n",
    "\n",
    "if number < 10 :\n",
    "    print(\"Too low\")\n",
    "elif number >= 10 and number <= 20:\n",
    "    print(\"Correct\")\n",
    "else :\n",
    "    print(\"Too high\")"
   ]
  },
  {
   "cell_type": "code",
   "execution_count": 98,
   "metadata": {},
   "outputs": [
    {
     "name": "stdout",
     "output_type": "stream",
     "text": [
      "enter 1, 2, or 310241240\n",
      "Error Message\n"
     ]
    }
   ],
   "source": [
    "#019\n",
    "number = int(input(\"enter 1, 2, or 3\"))\n",
    "\n",
    "if number == 1:\n",
    "    print(\"Thank you\")\n",
    "elif number == 2:\n",
    "    print(\"Well done\")\n",
    "elif number == 3:\n",
    "    print(\"Correct\")\n",
    "else :\n",
    "    print(\"Error Message\")"
   ]
  },
  {
   "cell_type": "code",
   "execution_count": null,
   "metadata": {},
   "outputs": [],
   "source": []
  },
  {
   "cell_type": "markdown",
   "metadata": {},
   "source": [
    "# Strings"
   ]
  },
  {
   "cell_type": "code",
   "execution_count": null,
   "metadata": {},
   "outputs": [],
   "source": [
    "# len(word) = finds the length of the variable \n",
    "# word.capitalize() = the first alphabet becomes a capital\n",
    "\n",
    "# .upper() = changes to the upper case\n",
    "# str.upper() =  ''\n",
    "\n",
    "# .lower() = changes to the lower case\n",
    "# str.lower() = ''\n",
    "\n",
    "# .title() = every first letter capitalized\n"
   ]
  },
  {
   "cell_type": "code",
   "execution_count": 99,
   "metadata": {},
   "outputs": [
    {
     "name": "stdout",
     "output_type": "stream",
     "text": [
      "I like apples\n"
     ]
    }
   ],
   "source": [
    "# strip() = removes spaces in front and end of the words. \n",
    "\n",
    "text = \" I like apples \"\n",
    "print(text.strip(\" \"))   "
   ]
  },
  {
   "cell_type": "code",
   "execution_count": 102,
   "metadata": {},
   "outputs": [
    {
     "name": "stdout",
     "output_type": "stream",
     "text": [
      "orl\n"
     ]
    }
   ],
   "source": [
    "print(\"hello world\"[7:10])"
   ]
  },
  {
   "cell_type": "code",
   "execution_count": 103,
   "metadata": {},
   "outputs": [
    {
     "data": {
      "text/plain": [
       "'I LIKE MONKEY'"
      ]
     },
     "execution_count": 103,
     "metadata": {},
     "output_type": "execute_result"
    }
   ],
   "source": [
    "text = \"I like monkey\"\n",
    "text.upper()"
   ]
  },
  {
   "cell_type": "code",
   "execution_count": 104,
   "metadata": {},
   "outputs": [
    {
     "data": {
      "text/plain": [
       "'I LIFEKJSAF '"
      ]
     },
     "execution_count": 104,
     "metadata": {},
     "output_type": "execute_result"
    }
   ],
   "source": [
    "str.upper(\"I lifekjsaf \")"
   ]
  },
  {
   "cell_type": "code",
   "execution_count": 105,
   "metadata": {},
   "outputs": [
    {
     "data": {
      "text/plain": [
       "'I Like Monkey'"
      ]
     },
     "execution_count": 105,
     "metadata": {},
     "output_type": "execute_result"
    }
   ],
   "source": [
    "text.title()"
   ]
  },
  {
   "cell_type": "code",
   "execution_count": null,
   "metadata": {},
   "outputs": [],
   "source": []
  },
  {
   "cell_type": "code",
   "execution_count": 107,
   "metadata": {},
   "outputs": [
    {
     "name": "stdout",
     "output_type": "stream",
     "text": [
      "Your first name:egskgnldhgeghurh\n",
      "16\n"
     ]
    }
   ],
   "source": [
    "# Challenges\n",
    "\n",
    "#020\n",
    "\n",
    "name = input(\"Your first name:\")\n",
    "\n",
    "print(len(name))"
   ]
  },
  {
   "cell_type": "code",
   "execution_count": 120,
   "metadata": {},
   "outputs": [
    {
     "name": "stdout",
     "output_type": "stream",
     "text": [
      "Your first name:Peter\n",
      "Your surname name:Shin\n",
      "Peter Shin 9\n"
     ]
    }
   ],
   "source": [
    "#021\n",
    "\n",
    "name = input(\"Your first name:\")\n",
    "sur = input(\"Your surname name:\")\n",
    "\n",
    "full = name+\" \"+sur\n",
    "print(full, len(full)-1)"
   ]
  },
  {
   "cell_type": "code",
   "execution_count": 125,
   "metadata": {},
   "outputs": [
    {
     "name": "stdout",
     "output_type": "stream",
     "text": [
      "first name:peter\n",
      "surname:shin\n",
      "Peter Shin\n"
     ]
    }
   ],
   "source": [
    "#022\n",
    "name = input(\"first name:\").title()\n",
    "sur = input(\"surname:\").title()\n",
    "\n",
    "fullname = name+ \" \" + sur\n",
    "print(fullname)"
   ]
  },
  {
   "cell_type": "code",
   "execution_count": 137,
   "metadata": {},
   "outputs": [
    {
     "name": "stdout",
     "output_type": "stream",
     "text": [
      "first line please:i love you darling\n",
      "this has 18 letters in it.\n",
      "starting number:1\n",
      "ending number:10\n",
      " love you\n"
     ]
    }
   ],
   "source": [
    "#023\n",
    "rhyme = str(input(\"first line please:\"))\n",
    "print(\"this has\", len(rhyme), \"letters in it.\")\n",
    "\n",
    "sno = int(input(\"starting number:\"))\n",
    "eno = int(input(\"ending number:\"))\n",
    "print(rhyme[sno:eno])"
   ]
  },
  {
   "cell_type": "code",
   "execution_count": 138,
   "metadata": {},
   "outputs": [
    {
     "name": "stdout",
     "output_type": "stream",
     "text": [
      "I will make it uppercaseghsdfksdfjfweofijew\n",
      "GHSDFKSDFJFWEOFIJEW\n"
     ]
    }
   ],
   "source": [
    "#024\n",
    "\n",
    "wo = input(\"I will make it uppercase\").upper()\n",
    "print(wo)"
   ]
  },
  {
   "cell_type": "code",
   "execution_count": 141,
   "metadata": {},
   "outputs": [
    {
     "name": "stdout",
     "output_type": "stream",
     "text": [
      "Insert your first name:Pete\n",
      "Insert your surname:Shin\n",
      "PETESHIN\n"
     ]
    }
   ],
   "source": [
    "#025\n",
    "firstname = input(\"Insert your first name:\")\n",
    "\n",
    "if len(firstname) < 5 :\n",
    "    surname = input(\"Insert your surname:\")\n",
    "    fullname=(firstname+surname).upper()\n",
    "    print(fullname)\n",
    "    \n",
    "else : \n",
    "    print(firstname.lower())"
   ]
  },
  {
   "cell_type": "code",
   "execution_count": 209,
   "metadata": {},
   "outputs": [
    {
     "name": "stdout",
     "output_type": "stream",
     "text": [
      "insert a word to piggify:asdklasd;salk\n",
      "sdklasd;salkaay\n"
     ]
    }
   ],
   "source": [
    "#026  - mytrial \n",
    "\n",
    "name = input(\"insert a word to piggify:\")\n",
    "\n",
    "\n",
    "\n",
    "if name[0] == \"b\" or \"c\" or \"d\":\n",
    "    new = name[1:]+name[0]+\"ay\"\n",
    "    print(new)\n",
    "elif name[0] == \"a\" or \"e\":\n",
    "    new = name+\"way\"\n",
    "    print(\"new\")"
   ]
  },
  {
   "cell_type": "code",
   "execution_count": 223,
   "metadata": {},
   "outputs": [
    {
     "name": "stdout",
     "output_type": "stream",
     "text": [
      "insert a word to piggify:DFOJIDJLfalfk\n",
      "fojidjlfalfkday\n"
     ]
    }
   ],
   "source": [
    "#026\n",
    "\n",
    "name = input(\"insert a word to piggify:\")\n",
    "\n",
    "first = str.lower(name[0])\n",
    "length = len(name)\n",
    "\n",
    "if first != \"a\" and first != \"e\" and first != \"i\" and first != \"u\" and first != \"o\":\n",
    "    new = name[1:length]+first+\"ay\"\n",
    "else:\n",
    "    new = name+\"way\"\n",
    "print(new.lower())"
   ]
  },
  {
   "cell_type": "code",
   "execution_count": null,
   "metadata": {},
   "outputs": [],
   "source": [
    "wo"
   ]
  },
  {
   "cell_type": "code",
   "execution_count": null,
   "metadata": {},
   "outputs": [],
   "source": []
  },
  {
   "cell_type": "code",
   "execution_count": null,
   "metadata": {},
   "outputs": [],
   "source": []
  },
  {
   "cell_type": "code",
   "execution_count": null,
   "metadata": {},
   "outputs": [],
   "source": []
  },
  {
   "cell_type": "code",
   "execution_count": null,
   "metadata": {},
   "outputs": [],
   "source": []
  },
  {
   "cell_type": "code",
   "execution_count": null,
   "metadata": {},
   "outputs": [],
   "source": []
  },
  {
   "cell_type": "code",
   "execution_count": null,
   "metadata": {},
   "outputs": [],
   "source": []
  },
  {
   "cell_type": "code",
   "execution_count": null,
   "metadata": {},
   "outputs": [],
   "source": []
  },
  {
   "cell_type": "code",
   "execution_count": null,
   "metadata": {},
   "outputs": [],
   "source": []
  },
  {
   "cell_type": "code",
   "execution_count": null,
   "metadata": {},
   "outputs": [],
   "source": []
  },
  {
   "cell_type": "code",
   "execution_count": null,
   "metadata": {},
   "outputs": [],
   "source": []
  },
  {
   "cell_type": "code",
   "execution_count": null,
   "metadata": {},
   "outputs": [],
   "source": []
  },
  {
   "cell_type": "code",
   "execution_count": null,
   "metadata": {},
   "outputs": [],
   "source": []
  },
  {
   "cell_type": "code",
   "execution_count": null,
   "metadata": {},
   "outputs": [],
   "source": []
  },
  {
   "cell_type": "code",
   "execution_count": null,
   "metadata": {},
   "outputs": [],
   "source": []
  },
  {
   "cell_type": "code",
   "execution_count": null,
   "metadata": {},
   "outputs": [],
   "source": []
  },
  {
   "cell_type": "code",
   "execution_count": null,
   "metadata": {},
   "outputs": [],
   "source": []
  },
  {
   "cell_type": "code",
   "execution_count": null,
   "metadata": {},
   "outputs": [],
   "source": []
  },
  {
   "cell_type": "code",
   "execution_count": null,
   "metadata": {},
   "outputs": [],
   "source": []
  },
  {
   "cell_type": "code",
   "execution_count": null,
   "metadata": {},
   "outputs": [],
   "source": []
  },
  {
   "cell_type": "code",
   "execution_count": null,
   "metadata": {},
   "outputs": [],
   "source": []
  },
  {
   "cell_type": "code",
   "execution_count": null,
   "metadata": {},
   "outputs": [],
   "source": []
  },
  {
   "cell_type": "code",
   "execution_count": null,
   "metadata": {},
   "outputs": [],
   "source": []
  },
  {
   "cell_type": "code",
   "execution_count": null,
   "metadata": {},
   "outputs": [],
   "source": []
  },
  {
   "cell_type": "code",
   "execution_count": null,
   "metadata": {},
   "outputs": [],
   "source": []
  }
 ],
 "metadata": {
  "kernelspec": {
   "display_name": "Python 3",
   "language": "python",
   "name": "python3"
  },
  "language_info": {
   "codemirror_mode": {
    "name": "ipython",
    "version": 3
   },
   "file_extension": ".py",
   "mimetype": "text/x-python",
   "name": "python",
   "nbconvert_exporter": "python",
   "pygments_lexer": "ipython3",
   "version": "3.7.4"
  }
 },
 "nbformat": 4,
 "nbformat_minor": 2
}
