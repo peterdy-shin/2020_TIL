{
 "cells": [
  {
   "cell_type": "code",
   "execution_count": 11,
   "metadata": {},
   "outputs": [
    {
     "name": "stdout",
     "output_type": "stream",
     "text": [
      "['AppleGothic']\n"
     ]
    }
   ],
   "source": [
    "import numpy as np\n",
    "import pandas as pd\n",
    "import matplotlib.pyplot as plt\n",
    "import seaborn as sns\n",
    "from pylab import rcParams\n",
    "import matplotlib.pylab as plt\n",
    "import matplotlib as mpl\n",
    "import matplotlib.font_manager as fm\n",
    "import missingno as msno\n",
    "font_list = fm.findSystemFonts(fontpaths = None, fontext = 'ttf')\n",
    "font_list[:]\n",
    "\n",
    "plt.rc('font', family='AppleGothic') # For Windows\n",
    "print(plt.rcParams['font.family'])\n"
   ]
  },
  {
   "cell_type": "markdown",
   "metadata": {},
   "source": [
    "# 확률론적 언어 모형 (Probabilistic Language Model)"
   ]
  },
  {
   "cell_type": "code",
   "execution_count": null,
   "metadata": {},
   "outputs": [],
   "source": [
    "단어 (w1, w2, ..wn) 을 나열했을때, 실제 사용되는 문장으로 성립될 확률을 계산하는 모형. \n",
    "P(w1, w2,.. wm)\n"
   ]
  },
  {
   "cell_type": "code",
   "execution_count": null,
   "metadata": {},
   "outputs": [],
   "source": [
    "사용되는 분야 \n",
    "1. Spell Correction \n",
    "2. Speech Recognition \n",
    "3. Machine Translation \n",
    "4. Summarization\n",
    "5. Question-Answering(Chatbot)\n",
    "6. 작문 (writing)"
   ]
  },
  {
   "cell_type": "code",
   "execution_count": null,
   "metadata": {},
   "outputs": [],
   "source": [
    "# NTLK 패키지의 바이그램 모형 : 앞뒤 두 단어의 확률로 문장을 이룰 수 있는가를 예측하는 모델 \n"
   ]
  },
  {
   "cell_type": "code",
   "execution_count": 1,
   "metadata": {},
   "outputs": [],
   "source": [
    "# NTLK 활용하여 바이그램 모델 만들기\n",
    "# 1. 말뭉치 바이그램 토큰화 \n",
    "from nltk.corpus import movie_reviews\n",
    "from nltk.util import ngrams"
   ]
  },
  {
   "cell_type": "code",
   "execution_count": 4,
   "metadata": {},
   "outputs": [],
   "source": [
    "sentences = []   #moview review corpus 에서 문장을 뽑아내기 \n",
    "for tokens in movie_reviews.sents():   #sents= 문장단위로 끝냈다. \n",
    "    bigram = ngrams(tokens, 2, pad_left=True, pad_right=True, left_pad_symbol=\"SS\", right_pad_symbol=\"SE\")\n",
    "    sentences += [t for t in bigram]\n",
    "    \n",
    "#SS = sentence start라는 스페셜 토큰. 문장 앞에 삽입\n",
    "#SE = sentenvce end라는 스페셜 토큰. 문장 뒤에 기입"
   ]
  },
  {
   "cell_type": "code",
   "execution_count": 5,
   "metadata": {},
   "outputs": [
    {
     "data": {
      "text/plain": [
       "[('SS', 'plot'),\n",
       " ('plot', ':'),\n",
       " (':', 'two'),\n",
       " ('two', 'teen'),\n",
       " ('teen', 'couples'),\n",
       " ('couples', 'go'),\n",
       " ('go', 'to'),\n",
       " ('to', 'a'),\n",
       " ('a', 'church'),\n",
       " ('church', 'party'),\n",
       " ('party', ','),\n",
       " (',', 'drink'),\n",
       " ('drink', 'and'),\n",
       " ('and', 'then'),\n",
       " ('then', 'drive'),\n",
       " ('drive', '.'),\n",
       " ('.', 'SE')]"
      ]
     },
     "execution_count": 5,
     "metadata": {},
     "output_type": "execute_result"
    }
   ],
   "source": [
    "sentences[:17]"
   ]
  },
  {
   "cell_type": "code",
   "execution_count": 6,
   "metadata": {},
   "outputs": [],
   "source": [
    "# 2. ConditionalFreqDist 클래스 객체 생성\n",
    "\n",
    "from nltk import ConditionalFreqDist\n",
    "\n",
    "cfd = ConditionalFreqDist(sentences)"
   ]
  },
  {
   "cell_type": "code",
   "execution_count": 7,
   "metadata": {},
   "outputs": [
    {
     "data": {
      "text/plain": [
       "[('the', 8071), ('.', 3173), ('it', 3136), ('i', 2471), ('but', 1814)]"
      ]
     },
     "execution_count": 7,
     "metadata": {},
     "output_type": "execute_result"
    }
   ],
   "source": [
    "cfd[\"SS\"].most_common(5)  #문장을 시작하고 나서 바로 처음으로 나타나는 단어는.. The"
   ]
  },
  {
   "cell_type": "code",
   "execution_count": 12,
   "metadata": {},
   "outputs": [
    {
     "data": {
      "image/png": "[encoded data removed]",
      "text/plain": [
       "<Figure size 432x288 with 1 Axes>"
      ]
     },
     "metadata": {
      "needs_background": "light"
     },
     "output_type": "display_data"
    }
   ],
   "source": [
    "cfd[\"SS\"].plot(5, title=\"Distribution of the sentence's first word\")\n",
    "plt.show()"
   ]
  },
  {
   "cell_type": "code",
   "execution_count": 14,
   "metadata": {},
   "outputs": [
    {
     "data": {
      "text/plain": [
       "[(\"'\", 1357), ('was', 506), ('can', 351), ('have', 330), ('don', 276)]"
      ]
     },
     "execution_count": 14,
     "metadata": {},
     "output_type": "execute_result"
    }
   ],
   "source": [
    "#  i 다음에 올 수 있는 단어들 \n",
    "cfd[\"i\"].most_common(5)"
   ]
  },
  {
   "cell_type": "code",
   "execution_count": 16,
   "metadata": {},
   "outputs": [
    {
     "data": {
      "image/png": "[encoded data removed]",
      "text/plain": [
       "<Figure size 432x288 with 1 Axes>"
      ]
     },
     "metadata": {
      "needs_background": "light"
     },
     "output_type": "display_data"
    },
    {
     "ename": "NameError",
     "evalue": "name 'plot' is not defined",
     "output_type": "error",
     "traceback": [
      "\u001b[0;31m---------------------------------------------------------------------------\u001b[0m",
      "\u001b[0;31mNameError\u001b[0m                                 Traceback (most recent call last)",
      "\u001b[0;32m<ipython-input-16-11d88d151ea5>\u001b[0m in \u001b[0;36m<module>\u001b[0;34m\u001b[0m\n\u001b[1;32m      1\u001b[0m \u001b[0mcfd\u001b[0m\u001b[0;34m[\u001b[0m\u001b[0;34m\"i\"\u001b[0m\u001b[0;34m]\u001b[0m\u001b[0;34m.\u001b[0m\u001b[0mplot\u001b[0m\u001b[0;34m(\u001b[0m\u001b[0;36m5\u001b[0m\u001b[0;34m,\u001b[0m \u001b[0mtitle\u001b[0m\u001b[0;34m=\u001b[0m\u001b[0;34m\"what comes after i\"\u001b[0m\u001b[0;34m)\u001b[0m\u001b[0;34m\u001b[0m\u001b[0;34m\u001b[0m\u001b[0m\n\u001b[0;32m----> 2\u001b[0;31m \u001b[0mplot\u001b[0m\u001b[0;34m.\u001b[0m\u001b[0mshow\u001b[0m\u001b[0;34m(\u001b[0m\u001b[0;34m)\u001b[0m\u001b[0;34m\u001b[0m\u001b[0;34m\u001b[0m\u001b[0m\n\u001b[0m",
      "\u001b[0;31mNameError\u001b[0m: name 'plot' is not defined"
     ]
    }
   ],
   "source": [
    "cfd[\"i\"].plot(5, title=\"what comes after i\")\n",
    "plot.show()"
   ]
  },
  {
   "cell_type": "code",
   "execution_count": 17,
   "metadata": {},
   "outputs": [
    {
     "data": {
      "text/plain": [
       "[('SE', 63404), ('\"', 1854), (')', 535), (\"'\", 70), (']', 10)]"
      ]
     },
     "execution_count": 17,
     "metadata": {},
     "output_type": "execute_result"
    }
   ],
   "source": [
    "#  . 마핌표 다음에 올수 있는 단어들\n",
    "cfd[\".\"].most_common(5)"
   ]
  },
  {
   "cell_type": "code",
   "execution_count": 21,
   "metadata": {},
   "outputs": [],
   "source": [
    "# 3. 조건부 확률 추정\n",
    "from nltk.probability import ConditionalProbDist, MLEProbDist\n",
    "cpd = ConditionalProbDist(cfd, MLEProbDist)  #Maximum Likelihood Estimation"
   ]
  },
  {
   "cell_type": "code",
   "execution_count": 23,
   "metadata": {},
   "outputs": [
    {
     "data": {
      "text/plain": [
       "0.018562267971650354"
      ]
     },
     "execution_count": 23,
     "metadata": {},
     "output_type": "execute_result"
    }
   ],
   "source": [
    "cpd[\"i\"].prob(\"am\") #i 다음에 am 이 올 확률 = 1.8%. i는 regularization 이 되었다."
   ]
  },
  {
   "cell_type": "code",
   "execution_count": 25,
   "metadata": {},
   "outputs": [
    {
     "data": {
      "text/plain": [
       "0.05692428844639442"
      ]
     },
     "execution_count": 25,
     "metadata": {},
     "output_type": "execute_result"
    }
   ],
   "source": [
    "cpd[\"i\"].prob(\"was\")"
   ]
  },
  {
   "cell_type": "code",
   "execution_count": 27,
   "metadata": {},
   "outputs": [
    {
     "data": {
      "text/plain": [
       "0.0002249971875351558"
      ]
     },
     "execution_count": 27,
     "metadata": {},
     "output_type": "execute_result"
    }
   ],
   "source": [
    "cpd[\"i\"].prob(\"is\")"
   ]
  },
  {
   "cell_type": "code",
   "execution_count": 28,
   "metadata": {},
   "outputs": [
    {
     "data": {
      "text/plain": [
       "0.08504504504504505"
      ]
     },
     "execution_count": 28,
     "metadata": {},
     "output_type": "execute_result"
    }
   ],
   "source": [
    "cpd[\"we\"].prob(\"are\")"
   ]
  },
  {
   "cell_type": "code",
   "execution_count": 29,
   "metadata": {},
   "outputs": [
    {
     "data": {
      "text/plain": [
       "0.0"
      ]
     },
     "execution_count": 29,
     "metadata": {},
     "output_type": "execute_result"
    }
   ],
   "source": [
    "cpd[\"we\"].prob(\"is\")  #조건부 확률. we 가 나오면 is 가 나올 확률. "
   ]
  },
  {
   "cell_type": "code",
   "execution_count": 44,
   "metadata": {},
   "outputs": [],
   "source": [
    "# I am a a boy 가 나올 확률\n",
    "\n",
    "def sentence_score(s):\n",
    "    p = 0.0\n",
    "    for i in range(len(s) - 1 ):\n",
    "        c = s[i]\n",
    "        w = s[i+1]\n",
    "        p += np.log(cpd[c].prob(w) + np.finfo(float).eps)  #np.finfo(float).eps 표현할수 있는 가장 작은 실수\n",
    "    return np.exp(p)"
   ]
  },
  {
   "cell_type": "code",
   "execution_count": 52,
   "metadata": {},
   "outputs": [
    {
     "data": {
      "text/plain": [
       "2.740764134071561e-06"
      ]
     },
     "execution_count": 52,
     "metadata": {},
     "output_type": "execute_result"
    }
   ],
   "source": [
    "test_sentence = [\"i\", \"like\", \"the\", \"movie\", \".\"]\n",
    "sentence_score(test_sentence)"
   ]
  },
  {
   "cell_type": "code",
   "execution_count": 53,
   "metadata": {},
   "outputs": [
    {
     "data": {
      "text/plain": [
       "1.5015040140827832e-38"
      ]
     },
     "execution_count": 53,
     "metadata": {},
     "output_type": "execute_result"
    }
   ],
   "source": [
    "test_sentence = [\"like\", \"i\", \"the\", \".\", \"movie\"]\n",
    "sentence_score(test_sentence)"
   ]
  },
  {
   "cell_type": "code",
   "execution_count": 55,
   "metadata": {},
   "outputs": [
    {
     "data": {
      "text/plain": [
       "0.007087411407357632"
      ]
     },
     "execution_count": 55,
     "metadata": {},
     "output_type": "execute_result"
    }
   ],
   "source": [
    "# movie 에 관련된. \n",
    "test_sentence = [\"i\", \"like\"]\n",
    "sentence_score(test_sentence)"
   ]
  },
  {
   "cell_type": "code",
   "execution_count": 58,
   "metadata": {},
   "outputs": [],
   "source": [
    "# 5. 무작위 문장 생성\n",
    "\n",
    "# 문장이 시작하면 무조건 SS. 그다음엔 i, but 등이 나올것이다. \n",
    "\n",
    "# SE 가 나올때까지 주사위를 돌리게끔함.\n",
    "\n",
    "def generate_sentence(seed=None):\n",
    "    if seed is not None:\n",
    "        import random \n",
    "        random.seed(seed)\n",
    "    c = \"SS\"\n",
    "    sentence = []\n",
    "    while True:\n",
    "        if c not in cpd:\n",
    "            break\n",
    "        w = cpd[c].generate()  #generate 메소드 활용 \n",
    "        \n",
    "        if w ==\"SE\":\n",
    "            break\n",
    "        else: \n",
    "            w2 = w\n",
    "        if c == \"SS\":\n",
    "            sentence.append(w2.title())\n",
    "        else:\n",
    "            sentence.append(\" \" + w2)\n",
    "        c = w\n",
    "    return \"\".join(sentence)"
   ]
  },
  {
   "cell_type": "code",
   "execution_count": 65,
   "metadata": {},
   "outputs": [
    {
     "data": {
      "text/plain": [
       "'The last summer should be kept at a hit the lame love must survive in a quivering during his true angel moment before her to date closing credits -- those guilty after a girl is the desk job for .'"
      ]
     },
     "execution_count": 65,
     "metadata": {},
     "output_type": "execute_result"
    }
   ],
   "source": [
    "generate_sentence()"
   ]
  },
  {
   "cell_type": "code",
   "execution_count": null,
   "metadata": {},
   "outputs": [],
   "source": [
    "\n",
    "\n"
   ]
  },
  {
   "cell_type": "code",
   "execution_count": null,
   "metadata": {},
   "outputs": [],
   "source": []
  },
  {
   "cell_type": "code",
   "execution_count": 113,
   "metadata": {},
   "outputs": [
    {
     "data": {
      "text/plain": [
       "['constitution.txt']"
      ]
     },
     "execution_count": 113,
     "metadata": {},
     "output_type": "execute_result"
    }
   ],
   "source": [
    "\n",
    "# 한국어에 적용\n",
    "\n",
    "from konlpy.corpus import kolaw\n",
    "from nltk.util import ngrams\n",
    "from nltk.tokenize import word_tokenize\n",
    "from konlpy.tag import *\n",
    "kolaw.fileids()"
   ]
  },
  {
   "cell_type": "code",
   "execution_count": 114,
   "metadata": {},
   "outputs": [],
   "source": [
    "hannanum = Hannanum()   \n",
    "kkma = Kkma()\n",
    "okt = Okt()\n"
   ]
  },
  {
   "cell_type": "code",
   "execution_count": 115,
   "metadata": {},
   "outputs": [],
   "source": [
    "c = kolaw.open('constitution.txt').read()"
   ]
  },
  {
   "cell_type": "code",
   "execution_count": 116,
   "metadata": {},
   "outputs": [
    {
     "data": {
      "text/plain": [
       "['대한민국헌법',\n",
       " '유구',\n",
       " '하',\n",
       " 'ㄴ',\n",
       " '역사',\n",
       " '와',\n",
       " '전통',\n",
       " '에',\n",
       " '빛',\n",
       " '나는',\n",
       " '우리',\n",
       " '대한국민',\n",
       " '은',\n",
       " '3·1운동',\n",
       " '으로',\n",
       " '건립',\n",
       " '되',\n",
       " 'ㄴ',\n",
       " '대한민국임시정부',\n",
       " '의',\n",
       " '법통',\n",
       " '과',\n",
       " '불의',\n",
       " '에',\n",
       " '항거',\n",
       " '하',\n",
       " 'ㄴ',\n",
       " '4·19민주이념',\n",
       " '을',\n",
       " '계승',\n",
       " '하고',\n",
       " ',',\n",
       " '조국',\n",
       " '의',\n",
       " '민주개혁',\n",
       " '과',\n",
       " '평화적',\n",
       " '통일',\n",
       " '의',\n",
       " '사명',\n",
       " '에',\n",
       " '입각',\n",
       " '하',\n",
       " '어',\n",
       " '정의·인도',\n",
       " '와',\n",
       " '동포애',\n",
       " '로써',\n",
       " '민족',\n",
       " '의',\n",
       " '단결',\n",
       " '을',\n",
       " '공고히',\n",
       " '하',\n",
       " '고',\n",
       " ',',\n",
       " '모든',\n",
       " '사회적',\n",
       " '폐습',\n",
       " '과',\n",
       " '불의',\n",
       " '를',\n",
       " '타파',\n",
       " '하',\n",
       " '며',\n",
       " ',',\n",
       " '자율',\n",
       " '과',\n",
       " '조화',\n",
       " '를',\n",
       " '바탕',\n",
       " '으로',\n",
       " '자유민주적',\n",
       " '기본질서',\n",
       " '를',\n",
       " '더욱',\n",
       " '확고히',\n",
       " '하',\n",
       " '어',\n",
       " '정치·경제·사회·문화',\n",
       " '의',\n",
       " '모든',\n",
       " '영역',\n",
       " '에',\n",
       " '있',\n",
       " '어서',\n",
       " '각인',\n",
       " '의',\n",
       " '기회',\n",
       " '를',\n",
       " '균등히',\n",
       " '하',\n",
       " '고',\n",
       " ',',\n",
       " '능력',\n",
       " '을',\n",
       " '최고도',\n",
       " '로',\n",
       " '발휘',\n",
       " '하',\n",
       " '게',\n",
       " '하',\n",
       " '며',\n",
       " ',',\n",
       " '자유',\n",
       " '와',\n",
       " '권리',\n",
       " '에',\n",
       " '따르',\n",
       " '는',\n",
       " '책',\n",
       " '이',\n",
       " 'ㅁ',\n",
       " '과',\n",
       " '의무',\n",
       " '를',\n",
       " '완수',\n",
       " '하',\n",
       " '게',\n",
       " '하',\n",
       " '어',\n",
       " ',',\n",
       " '안',\n",
       " '으로는',\n",
       " '국민생활',\n",
       " '의',\n",
       " '균등',\n",
       " '하',\n",
       " 'ㄴ',\n",
       " '향상',\n",
       " '을',\n",
       " '기',\n",
       " '하고',\n",
       " '밖',\n",
       " '으로는',\n",
       " '항구적',\n",
       " '이',\n",
       " 'ㄴ',\n",
       " '세계평화',\n",
       " '와',\n",
       " '인류공영',\n",
       " '에',\n",
       " '이바',\n",
       " '이',\n",
       " '지',\n",
       " '하',\n",
       " 'ㅁ',\n",
       " '으로써',\n",
       " '우리들',\n",
       " '과',\n",
       " '우리들',\n",
       " '의',\n",
       " '자손',\n",
       " '의',\n",
       " '알',\n",
       " 'ㄴ',\n",
       " '전',\n",
       " '과',\n",
       " '자유',\n",
       " '와',\n",
       " '행복',\n",
       " '을',\n",
       " '영원히',\n",
       " '확보',\n",
       " '하',\n",
       " 'ㄹ',\n",
       " '것',\n",
       " '을',\n",
       " '다짐',\n",
       " '하',\n",
       " '면서',\n",
       " '1948년',\n",
       " '7월',\n",
       " '12일',\n",
       " '에',\n",
       " '제정',\n",
       " '되',\n",
       " '고',\n",
       " '8차',\n",
       " '에',\n",
       " '걸치',\n",
       " '어',\n",
       " '개정',\n",
       " '되',\n",
       " 'ㄴ',\n",
       " '헌법',\n",
       " '을',\n",
       " '이제',\n",
       " '국회',\n",
       " '의',\n",
       " '의결',\n",
       " '을',\n",
       " '거치',\n",
       " '어',\n",
       " '국민투표',\n",
       " '에',\n",
       " '의하',\n",
       " '어',\n",
       " '개정',\n",
       " '하',\n",
       " 'ㄴ다',\n",
       " '.',\n",
       " '제1장',\n",
       " '총강',\n",
       " '제1조',\n",
       " '①',\n",
       " '대한민국',\n",
       " '은',\n",
       " '민주공화국',\n",
       " '이',\n",
       " '다',\n",
       " '.',\n",
       " '②대한민국',\n",
       " '의',\n",
       " '주권',\n",
       " '은',\n",
       " '국민',\n",
       " '에게',\n",
       " '있',\n",
       " '고',\n",
       " ',',\n",
       " '모든',\n",
       " '권력',\n",
       " '은',\n",
       " '국민',\n",
       " '으로부터',\n",
       " '나',\n",
       " '아',\n",
       " '오',\n",
       " 'ㄴ다',\n",
       " '.',\n",
       " '제2조',\n",
       " '①',\n",
       " '대한민국',\n",
       " '의',\n",
       " '국민',\n",
       " '이',\n",
       " '되',\n",
       " '는',\n",
       " '요건',\n",
       " '은',\n",
       " '법률',\n",
       " '로',\n",
       " '정하',\n",
       " 'ㄴ다',\n",
       " '.',\n",
       " '②국가',\n",
       " '는',\n",
       " '법률',\n",
       " '이',\n",
       " '정하',\n",
       " '는',\n",
       " '바',\n",
       " '에',\n",
       " '의하',\n",
       " '어',\n",
       " '재외국민',\n",
       " '을',\n",
       " '보호',\n",
       " '하',\n",
       " 'ㄹ',\n",
       " '의무',\n",
       " '를',\n",
       " '지',\n",
       " 'ㄴ다',\n",
       " '.',\n",
       " '제3조',\n",
       " '대한민국',\n",
       " '의',\n",
       " '영토',\n",
       " '는',\n",
       " '한반도',\n",
       " '와',\n",
       " '그',\n",
       " '부속도서',\n",
       " '로',\n",
       " '하',\n",
       " 'ㄴ다',\n",
       " '.',\n",
       " '제4조',\n",
       " '대한민국',\n",
       " '은',\n",
       " '통일',\n",
       " '을',\n",
       " '지향',\n",
       " '하',\n",
       " '며',\n",
       " ',',\n",
       " '자유민주적',\n",
       " '기본질서',\n",
       " '에',\n",
       " '입각',\n",
       " '하',\n",
       " 'ㄴ',\n",
       " '평화적',\n",
       " '통',\n",
       " '이',\n",
       " 'ㄹ',\n",
       " '정책',\n",
       " '을',\n",
       " '수립',\n",
       " '하고',\n",
       " '이',\n",
       " '를',\n",
       " '추진',\n",
       " '하',\n",
       " 'ㄴ다',\n",
       " '.',\n",
       " '제5조',\n",
       " '①',\n",
       " '대한민국',\n",
       " '은',\n",
       " '국제평화',\n",
       " '의',\n",
       " '유지',\n",
       " '에',\n",
       " '노력',\n",
       " '하고',\n",
       " '침략적',\n",
       " '전쟁',\n",
       " '을',\n",
       " '부인',\n",
       " '하',\n",
       " 'ㄴ다',\n",
       " '.',\n",
       " '②국군',\n",
       " '은',\n",
       " '국가',\n",
       " '의',\n",
       " '안전보장',\n",
       " '과',\n",
       " '국토방위',\n",
       " '의',\n",
       " '신성한',\n",
       " '의무',\n",
       " '를',\n",
       " '수행',\n",
       " '하',\n",
       " 'ㅁ',\n",
       " '을',\n",
       " '사명',\n",
       " '으로',\n",
       " '하',\n",
       " '며',\n",
       " ',',\n",
       " '그',\n",
       " '정치적',\n",
       " '중립성',\n",
       " '은',\n",
       " '준수',\n",
       " '되',\n",
       " 'ㄴ다',\n",
       " '.',\n",
       " '제6조',\n",
       " '①',\n",
       " '헌법',\n",
       " '에',\n",
       " '의하',\n",
       " '어',\n",
       " '체결·공포된',\n",
       " '조약',\n",
       " '과',\n",
       " '일반적',\n",
       " '으로',\n",
       " '승인',\n",
       " '되',\n",
       " 'ㄴ',\n",
       " '국제법규',\n",
       " '는',\n",
       " '국내법',\n",
       " '과',\n",
       " '같',\n",
       " '은',\n",
       " '효력',\n",
       " '을',\n",
       " '가',\n",
       " '아',\n",
       " '지',\n",
       " 'ㄴ다',\n",
       " '.',\n",
       " '②외국인',\n",
       " '은',\n",
       " '국제법',\n",
       " '과',\n",
       " '조약',\n",
       " '이',\n",
       " '정하',\n",
       " '는',\n",
       " '바',\n",
       " '에',\n",
       " '의하',\n",
       " '어',\n",
       " '그',\n",
       " '지위',\n",
       " '가',\n",
       " '보장',\n",
       " '되',\n",
       " 'ㄴ다',\n",
       " '.',\n",
       " '제7조',\n",
       " '①',\n",
       " '공무원',\n",
       " '은',\n",
       " '국민전체',\n",
       " '에',\n",
       " '대하',\n",
       " 'ㄴ',\n",
       " '봉사자',\n",
       " '이',\n",
       " '며',\n",
       " ',',\n",
       " '국민',\n",
       " '에',\n",
       " '대',\n",
       " '어',\n",
       " '하',\n",
       " '어',\n",
       " '책',\n",
       " '이',\n",
       " 'ㅁ',\n",
       " '을',\n",
       " '지',\n",
       " 'ㄴ다',\n",
       " '.',\n",
       " '②공무원',\n",
       " '의',\n",
       " '신분',\n",
       " '과',\n",
       " '정치적',\n",
       " '중립성',\n",
       " '은',\n",
       " '법률',\n",
       " '이',\n",
       " '정하',\n",
       " '는',\n",
       " '바',\n",
       " '에',\n",
       " '의하',\n",
       " '어',\n",
       " '보장',\n",
       " '되',\n",
       " 'ㄴ다',\n",
       " '.',\n",
       " '제8조',\n",
       " '①',\n",
       " '정당',\n",
       " '의',\n",
       " '설립',\n",
       " '은',\n",
       " '자유',\n",
       " '이',\n",
       " '며',\n",
       " ',',\n",
       " '복수정당제',\n",
       " '는',\n",
       " '보장',\n",
       " '되',\n",
       " 'ㄴ다',\n",
       " '.',\n",
       " '②정당은',\n",
       " '그',\n",
       " '목',\n",
       " '적',\n",
       " '·',\n",
       " '조직',\n",
       " '과',\n",
       " '활동',\n",
       " '이',\n",
       " '민주적',\n",
       " '이',\n",
       " '어야',\n",
       " '하',\n",
       " '며',\n",
       " ',',\n",
       " '국민',\n",
       " '의',\n",
       " '정치적',\n",
       " '의사형성',\n",
       " '에',\n",
       " '참여',\n",
       " '하',\n",
       " 'ㄴ데',\n",
       " '필요',\n",
       " '하',\n",
       " 'ㄴ',\n",
       " '조직',\n",
       " '을',\n",
       " '가',\n",
       " '아',\n",
       " '지',\n",
       " '어야',\n",
       " '하',\n",
       " 'ㄴ다',\n",
       " '.',\n",
       " '③정당',\n",
       " '은',\n",
       " '법률',\n",
       " '이',\n",
       " '정하',\n",
       " '는',\n",
       " '바',\n",
       " '에',\n",
       " '의하',\n",
       " '어',\n",
       " '국가',\n",
       " '의',\n",
       " '보호',\n",
       " '를',\n",
       " '받',\n",
       " '으며',\n",
       " ',',\n",
       " '국가',\n",
       " '는',\n",
       " '법률',\n",
       " '이',\n",
       " '정하',\n",
       " '는',\n",
       " '바',\n",
       " '에',\n",
       " '의하',\n",
       " '어',\n",
       " '정당운영',\n",
       " '에',\n",
       " '필요',\n",
       " '하',\n",
       " 'ㄴ',\n",
       " '자금',\n",
       " '을',\n",
       " '보조',\n",
       " '하',\n",
       " 'ㄹ',\n",
       " '수',\n",
       " '있',\n",
       " '다',\n",
       " '.',\n",
       " '④정당',\n",
       " '의',\n",
       " '목적',\n",
       " '이나',\n",
       " '활동',\n",
       " '이',\n",
       " '민주적',\n",
       " '기본질서',\n",
       " '에',\n",
       " '위배',\n",
       " '되',\n",
       " 'ㄹ',\n",
       " '때',\n",
       " '에는',\n",
       " '정부',\n",
       " '는',\n",
       " '헌법재판소',\n",
       " '에',\n",
       " '그',\n",
       " '해산',\n",
       " '을',\n",
       " '제소',\n",
       " '하',\n",
       " 'ㄹ',\n",
       " '수',\n",
       " '있',\n",
       " '고',\n",
       " ',',\n",
       " '정당',\n",
       " '은',\n",
       " '헌법재판소',\n",
       " '의',\n",
       " '심판',\n",
       " '에',\n",
       " '의하',\n",
       " '어',\n",
       " '해산',\n",
       " '되',\n",
       " 'ㄴ다',\n",
       " '.',\n",
       " '제9조',\n",
       " '국가',\n",
       " '는',\n",
       " '전통문화',\n",
       " '의',\n",
       " '계승·발전',\n",
       " '과',\n",
       " '민족문화',\n",
       " '의',\n",
       " '창달',\n",
       " '에',\n",
       " '노력',\n",
       " '하',\n",
       " '어야',\n",
       " '하',\n",
       " 'ㄴ다',\n",
       " '.',\n",
       " '제2장',\n",
       " '국민',\n",
       " '의',\n",
       " '권리',\n",
       " '와',\n",
       " '의무',\n",
       " '제10조',\n",
       " '모든',\n",
       " '국민',\n",
       " '은',\n",
       " '인간',\n",
       " '으로서의',\n",
       " '존엄',\n",
       " '과',\n",
       " '가치',\n",
       " '를',\n",
       " '가',\n",
       " '아',\n",
       " '지',\n",
       " '며',\n",
       " ',',\n",
       " '행복',\n",
       " '을',\n",
       " '추구',\n",
       " '하',\n",
       " 'ㄹ',\n",
       " '권리',\n",
       " '를',\n",
       " '가',\n",
       " '아',\n",
       " '지',\n",
       " 'ㄴ다',\n",
       " '.',\n",
       " '국가',\n",
       " '는',\n",
       " '개인',\n",
       " '이',\n",
       " '가',\n",
       " '아',\n",
       " '지',\n",
       " '는',\n",
       " '불가침',\n",
       " '의',\n",
       " '기본적',\n",
       " '인권',\n",
       " '을',\n",
       " '확인',\n",
       " '하고',\n",
       " '이',\n",
       " '를',\n",
       " '보장',\n",
       " '하',\n",
       " 'ㄹ',\n",
       " '의무',\n",
       " '를',\n",
       " '지',\n",
       " 'ㄴ다',\n",
       " '.',\n",
       " '제11조',\n",
       " '①',\n",
       " '모든',\n",
       " '국민',\n",
       " '은',\n",
       " '법',\n",
       " '앞',\n",
       " '에',\n",
       " '평등',\n",
       " '하',\n",
       " '다',\n",
       " '.',\n",
       " '누구',\n",
       " '든지',\n",
       " '성',\n",
       " '별',\n",
       " '·',\n",
       " '종교',\n",
       " '또는',\n",
       " '사회적',\n",
       " '신분',\n",
       " '에',\n",
       " '의하',\n",
       " '어',\n",
       " '정치',\n",
       " '적',\n",
       " '·',\n",
       " '경제',\n",
       " '적',\n",
       " '·',\n",
       " '사회',\n",
       " '적',\n",
       " '·',\n",
       " '문화적',\n",
       " '생활',\n",
       " '의',\n",
       " '모든',\n",
       " '영역',\n",
       " '에',\n",
       " '있',\n",
       " '어서',\n",
       " '차별',\n",
       " '을',\n",
       " '받',\n",
       " '지',\n",
       " '아니하',\n",
       " 'ㄴ다',\n",
       " '.',\n",
       " '②사회적',\n",
       " '특수계급',\n",
       " '의',\n",
       " '제',\n",
       " '도는',\n",
       " '인정',\n",
       " '되',\n",
       " '지',\n",
       " '아니하',\n",
       " '며',\n",
       " ',',\n",
       " '어떠하',\n",
       " 'ㄴ',\n",
       " '형태',\n",
       " '로도',\n",
       " '이',\n",
       " '를',\n",
       " '창설',\n",
       " '하',\n",
       " 'ㄹ',\n",
       " '수',\n",
       " '없',\n",
       " '다',\n",
       " '.',\n",
       " '③훈장등',\n",
       " '의',\n",
       " '영전',\n",
       " '은',\n",
       " '이',\n",
       " '를',\n",
       " '받',\n",
       " '은',\n",
       " '자',\n",
       " '에게만',\n",
       " '효력',\n",
       " '이',\n",
       " '있',\n",
       " '고',\n",
       " ',',\n",
       " '어떠하',\n",
       " 'ㄴ',\n",
       " '특권',\n",
       " '도',\n",
       " '이',\n",
       " '에',\n",
       " '따르',\n",
       " '지',\n",
       " '아니하',\n",
       " 'ㄴ다',\n",
       " '.',\n",
       " '제12조',\n",
       " '①',\n",
       " '모든',\n",
       " '국민',\n",
       " '은',\n",
       " '신체',\n",
       " '의',\n",
       " '자유',\n",
       " '를',\n",
       " '가',\n",
       " '아',\n",
       " '지',\n",
       " 'ㄴ다',\n",
       " '.',\n",
       " '누구',\n",
       " '든지',\n",
       " '법률',\n",
       " '에',\n",
       " '의하',\n",
       " '지',\n",
       " '알',\n",
       " '니',\n",
       " '하고는',\n",
       " '체포·구속·압수·수색',\n",
       " '또는',\n",
       " '심문',\n",
       " '을',\n",
       " '받',\n",
       " '지',\n",
       " '아니하',\n",
       " '며',\n",
       " ',',\n",
       " '법률',\n",
       " '과',\n",
       " '적법한',\n",
       " '절차',\n",
       " '에',\n",
       " '의하',\n",
       " '지',\n",
       " '알',\n",
       " '니',\n",
       " '하고는',\n",
       " '처벌·보안처분',\n",
       " '또는',\n",
       " '강제노역',\n",
       " '을',\n",
       " '받',\n",
       " '지',\n",
       " '아니하',\n",
       " 'ㄴ다',\n",
       " '.',\n",
       " '②모든',\n",
       " '국민',\n",
       " '은',\n",
       " '고문',\n",
       " '을',\n",
       " '받',\n",
       " '지',\n",
       " '아니하',\n",
       " '며',\n",
       " ',',\n",
       " '형사상',\n",
       " '자',\n",
       " '이',\n",
       " '기',\n",
       " '에게',\n",
       " '불리',\n",
       " '하',\n",
       " 'ㄴ',\n",
       " '지',\n",
       " 'ㄴ',\n",
       " '술',\n",
       " '을',\n",
       " '강요',\n",
       " '당하',\n",
       " '지',\n",
       " '아니하',\n",
       " 'ㄴ다',\n",
       " '.',\n",
       " '③체포·구속·압수',\n",
       " '또는',\n",
       " '수색',\n",
       " '을',\n",
       " '하',\n",
       " 'ㄹ',\n",
       " '때',\n",
       " '에는',\n",
       " '적법한',\n",
       " '절차',\n",
       " '에',\n",
       " '따르',\n",
       " '아',\n",
       " '검사',\n",
       " '의',\n",
       " '신청',\n",
       " '에',\n",
       " '의하',\n",
       " '어',\n",
       " '법관',\n",
       " '이',\n",
       " '발부',\n",
       " '하',\n",
       " 'ㄴ',\n",
       " '영장',\n",
       " '을',\n",
       " '제시',\n",
       " '하',\n",
       " '어야',\n",
       " '하',\n",
       " 'ㄴ다',\n",
       " '.',\n",
       " '다',\n",
       " '만',\n",
       " ',',\n",
       " '현행범인',\n",
       " '이',\n",
       " 'ㄴ',\n",
       " '경우',\n",
       " '와',\n",
       " '장기',\n",
       " '3년',\n",
       " '이상',\n",
       " '의',\n",
       " '형',\n",
       " '에',\n",
       " '해당',\n",
       " '하',\n",
       " '는',\n",
       " '죄',\n",
       " '를',\n",
       " '벌',\n",
       " 'ㅁ',\n",
       " '하고',\n",
       " '도피',\n",
       " '또는',\n",
       " '증거인멸',\n",
       " '의',\n",
       " '염려',\n",
       " '가',\n",
       " '있',\n",
       " '을',\n",
       " '때',\n",
       " '에는',\n",
       " '사후',\n",
       " '에',\n",
       " '영장',\n",
       " '을',\n",
       " '청구',\n",
       " '하',\n",
       " 'ㄹ',\n",
       " '수',\n",
       " '있',\n",
       " '다',\n",
       " '.',\n",
       " '④누구든지',\n",
       " '체포',\n",
       " '또는',\n",
       " '구속',\n",
       " '을',\n",
       " '당하',\n",
       " 'ㄴ',\n",
       " '때',\n",
       " '에는',\n",
       " '즉시',\n",
       " '변호인',\n",
       " '의',\n",
       " '조력',\n",
       " '을',\n",
       " '받',\n",
       " '을',\n",
       " '권리',\n",
       " '를',\n",
       " '가',\n",
       " '아',\n",
       " '지',\n",
       " 'ㄴ다',\n",
       " '.',\n",
       " '다',\n",
       " '만',\n",
       " ',',\n",
       " '형사피고인',\n",
       " '이',\n",
       " '스스로',\n",
       " '변호인',\n",
       " '을',\n",
       " '구하',\n",
       " 'ㄹ',\n",
       " '수',\n",
       " '없',\n",
       " '을',\n",
       " '때',\n",
       " '에는',\n",
       " '법률',\n",
       " '이',\n",
       " '정하',\n",
       " '는',\n",
       " '바',\n",
       " '에',\n",
       " '의하',\n",
       " '어',\n",
       " '국가',\n",
       " '가',\n",
       " '변호인',\n",
       " '을',\n",
       " '붙이',\n",
       " 'ㄴ다',\n",
       " '.',\n",
       " '⑤누구든지',\n",
       " '체포',\n",
       " '또는',\n",
       " '구속',\n",
       " '의',\n",
       " '이유',\n",
       " '와',\n",
       " '변호인',\n",
       " '의',\n",
       " '조력',\n",
       " '을',\n",
       " '받',\n",
       " '을',\n",
       " '권리',\n",
       " '가',\n",
       " '있',\n",
       " '음',\n",
       " '을',\n",
       " '고',\n",
       " '지',\n",
       " '받',\n",
       " '지',\n",
       " '알',\n",
       " '니',\n",
       " '하고는',\n",
       " '체포',\n",
       " '또는',\n",
       " '구속',\n",
       " '을',\n",
       " '당하',\n",
       " '지',\n",
       " '아니하',\n",
       " 'ㄴ다',\n",
       " '.',\n",
       " '체포',\n",
       " '또는',\n",
       " '구속',\n",
       " '을',\n",
       " '당하',\n",
       " 'ㄴ',\n",
       " '자',\n",
       " '의',\n",
       " '가족등',\n",
       " '법률',\n",
       " '이',\n",
       " ...]"
      ]
     },
     "execution_count": 116,
     "metadata": {},
     "output_type": "execute_result"
    }
   ],
   "source": [
    "hannanum.morphs(c)"
   ]
  },
  {
   "cell_type": "code",
   "execution_count": 85,
   "metadata": {},
   "outputs": [],
   "source": [
    "from nltk.corpus import movie_reviews\n",
    "from nltk.util import ngrams"
   ]
  },
  {
   "cell_type": "code",
   "execution_count": 129,
   "metadata": {},
   "outputs": [],
   "source": [
    "sentences = []\n",
    "for tokens in hannanum.morphs(c):\n",
    "    bigram = ngrams(tokens, 2, pad_left=True, pad_right=True, left_pad_symbol=\"SS\", right_pad_symbol=\"SE\")\n",
    "    sentences += [t for t in bigram]\n"
   ]
  },
  {
   "cell_type": "code",
   "execution_count": 119,
   "metadata": {},
   "outputs": [
    {
     "data": {
      "text/plain": [
       "[('SS', '대'),\n",
       " ('대', '한'),\n",
       " ('한', '민'),\n",
       " ('민', '국'),\n",
       " ('국', '헌'),\n",
       " ('헌', '법'),\n",
       " ('법', 'SE'),\n",
       " ('SS', '유'),\n",
       " ('유', '구'),\n",
       " ('구', 'SE'),\n",
       " ('SS', '하'),\n",
       " ('하', 'SE'),\n",
       " ('SS', 'ㄴ'),\n",
       " ('ㄴ', 'SE'),\n",
       " ('SS', '역'),\n",
       " ('역', '사'),\n",
       " ('사', 'SE'),\n",
       " ('SS', '와'),\n",
       " ('와', 'SE'),\n",
       " ('SS', '전'),\n",
       " ('전', '통'),\n",
       " ('통', 'SE'),\n",
       " ('SS', '에'),\n",
       " ('에', 'SE'),\n",
       " ('SS', '빛'),\n",
       " ('빛', 'SE'),\n",
       " ('SS', '나'),\n",
       " ('나', '는'),\n",
       " ('는', 'SE'),\n",
       " ('SS', '우'),\n",
       " ('우', '리'),\n",
       " ('리', 'SE'),\n",
       " ('SS', '대'),\n",
       " ('대', '한'),\n",
       " ('한', '국'),\n",
       " ('국', '민'),\n",
       " ('민', 'SE'),\n",
       " ('SS', '은'),\n",
       " ('은', 'SE'),\n",
       " ('SS', '3'),\n",
       " ('3', '·'),\n",
       " ('·', '1'),\n",
       " ('1', '운'),\n",
       " ('운', '동'),\n",
       " ('동', 'SE'),\n",
       " ('SS', '으'),\n",
       " ('으', '로'),\n",
       " ('로', 'SE'),\n",
       " ('SS', '건'),\n",
       " ('건', '립'),\n",
       " ('립', 'SE'),\n",
       " ('SS', '되'),\n",
       " ('되', 'SE'),\n",
       " ('SS', 'ㄴ'),\n",
       " ('ㄴ', 'SE'),\n",
       " ('SS', '대'),\n",
       " ('대', '한'),\n",
       " ('한', '민'),\n",
       " ('민', '국'),\n",
       " ('국', '임'),\n",
       " ('임', '시'),\n",
       " ('시', '정'),\n",
       " ('정', '부'),\n",
       " ('부', 'SE'),\n",
       " ('SS', '의'),\n",
       " ('의', 'SE'),\n",
       " ('SS', '법'),\n",
       " ('법', '통'),\n",
       " ('통', 'SE'),\n",
       " ('SS', '과'),\n",
       " ('과', 'SE'),\n",
       " ('SS', '불'),\n",
       " ('불', '의'),\n",
       " ('의', 'SE'),\n",
       " ('SS', '에'),\n",
       " ('에', 'SE'),\n",
       " ('SS', '항'),\n",
       " ('항', '거'),\n",
       " ('거', 'SE'),\n",
       " ('SS', '하'),\n",
       " ('하', 'SE'),\n",
       " ('SS', 'ㄴ'),\n",
       " ('ㄴ', 'SE'),\n",
       " ('SS', '4'),\n",
       " ('4', '·'),\n",
       " ('·', '1'),\n",
       " ('1', '9'),\n",
       " ('9', '민'),\n",
       " ('민', '주'),\n",
       " ('주', '이'),\n",
       " ('이', '념'),\n",
       " ('념', 'SE'),\n",
       " ('SS', '을'),\n",
       " ('을', 'SE'),\n",
       " ('SS', '계'),\n",
       " ('계', '승'),\n",
       " ('승', 'SE'),\n",
       " ('SS', '하'),\n",
       " ('하', '고'),\n",
       " ('고', 'SE')]"
      ]
     },
     "execution_count": 119,
     "metadata": {},
     "output_type": "execute_result"
    }
   ],
   "source": [
    "sentences[:100]"
   ]
  },
  {
   "cell_type": "code",
   "execution_count": 133,
   "metadata": {},
   "outputs": [],
   "source": [
    "# 2. ConditionalFreqDist 클래스 객체 생성\n",
    "from nltk import ConditionalFreqDist\n",
    "\n",
    "cfd = ConditionalFreqDist(sentences)"
   ]
  },
  {
   "cell_type": "code",
   "execution_count": 134,
   "metadata": {},
   "outputs": [
    {
     "data": {
      "text/plain": [
       "[('의', 527), ('ㄴ', 465), ('하', 448), ('에', 367), ('.', 341)]"
      ]
     },
     "execution_count": 134,
     "metadata": {},
     "output_type": "execute_result"
    }
   ],
   "source": [
    "cfd[\"SS\"].most_common(5)"
   ]
  },
  {
   "cell_type": "code",
   "execution_count": 122,
   "metadata": {},
   "outputs": [
    {
     "data": {
      "image/png": "[encoded data removed]",
      "text/plain": [
       "<Figure size 432x288 with 1 Axes>"
      ]
     },
     "metadata": {
      "needs_background": "light"
     },
     "output_type": "display_data"
    }
   ],
   "source": [
    "cfd[\"SS\"].plot(5, title=\"Distribution of the sentence's first word\")\n",
    "plt.show()"
   ]
  },
  {
   "cell_type": "code",
   "execution_count": 123,
   "metadata": {},
   "outputs": [
    {
     "data": {
      "text/plain": [
       "[('통', 87), ('법', 25), ('한', 17), ('하', 10), ('SE', 10)]"
      ]
     },
     "execution_count": 123,
     "metadata": {},
     "output_type": "execute_result"
    }
   ],
   "source": [
    "#  나 다음에 올 수 있는 단어들 \n",
    "cfd[\"대\"].most_common(5)"
   ]
  },
  {
   "cell_type": "code",
   "execution_count": 124,
   "metadata": {},
   "outputs": [
    {
     "data": {
      "text/plain": [
       "[('SE', 359), ('\"', 1)]"
      ]
     },
     "execution_count": 124,
     "metadata": {},
     "output_type": "execute_result"
    }
   ],
   "source": [
    "#  . 마침표 다음에 올수 있는 단어들\n",
    "cfd[\".\"].most_common(5)"
   ]
  },
  {
   "cell_type": "code",
   "execution_count": 136,
   "metadata": {},
   "outputs": [],
   "source": [
    "# 3. 조건부 확률 추정\n",
    "from nltk.probability import ConditionalProbDist, MLEProbDist\n",
    "cpd = ConditionalProbDist(cfd, MLEProbDist)  #Maximum Likelihood Estimation"
   ]
  },
  {
   "cell_type": "code",
   "execution_count": 137,
   "metadata": {},
   "outputs": [
    {
     "data": {
      "text/plain": [
       "0.54375"
      ]
     },
     "execution_count": 137,
     "metadata": {},
     "output_type": "execute_result"
    }
   ],
   "source": [
    "cpd[\"대\"].prob(\"통\")"
   ]
  },
  {
   "cell_type": "code",
   "execution_count": 139,
   "metadata": {},
   "outputs": [
    {
     "data": {
      "text/plain": [
       "0.10625"
      ]
     },
     "execution_count": 139,
     "metadata": {},
     "output_type": "execute_result"
    }
   ],
   "source": [
    "cpd[\"대\"].prob(\"한\")"
   ]
  },
  {
   "cell_type": "code",
   "execution_count": 140,
   "metadata": {},
   "outputs": [],
   "source": [
    "def sentence_score(s):\n",
    "    p = 0.0\n",
    "    for i in range(len(s)-1):\n",
    "        c = s[i]\n",
    "        w = s[i+1]\n",
    "        p += np.log(cpd[c].prob(w) + np.finfo(float).eps)\n",
    "    return np.exp(p)"
   ]
  },
  {
   "cell_type": "code",
   "execution_count": 141,
   "metadata": {},
   "outputs": [
    {
     "data": {
      "text/plain": [
       "0.0018220308956916201"
      ]
     },
     "execution_count": 141,
     "metadata": {},
     "output_type": "execute_result"
    }
   ],
   "source": [
    "test_sentence = [\"대\",\"한\", \"민\", \"국\" ]\n",
    "sentence_score(test_sentence)"
   ]
  },
  {
   "cell_type": "code",
   "execution_count": 144,
   "metadata": {},
   "outputs": [],
   "source": [
    "def generate_sentence(seed=None):\n",
    "    if seed is not None:\n",
    "        import random \n",
    "        random.seed(seed)\n",
    "    c = \"SS\"\n",
    "    sentences = []\n",
    "    while True:\n",
    "        if c not in cpd:\n",
    "            break\n",
    "        w = cpd[c].generate()  #generate 메소드 활용 \n",
    "        \n",
    "        if w ==\"SE\":\n",
    "            break\n",
    "        else: \n",
    "            w2 = w\n",
    "        if c == \"SS\":\n",
    "            sentences.append(w2.title())\n",
    "        else:\n",
    "            sentences.append(\" \" + w2)\n",
    "        c = w\n",
    "    return \"\".join(sentences)"
   ]
  },
  {
   "cell_type": "code",
   "execution_count": 169,
   "metadata": {},
   "outputs": [
    {
     "data": {
      "text/plain": [
       "'어 야'"
      ]
     },
     "execution_count": 169,
     "metadata": {},
     "output_type": "execute_result"
    }
   ],
   "source": [
    "generate_sentence()"
   ]
  },
  {
   "cell_type": "code",
   "execution_count": 183,
   "metadata": {
    "scrolled": true
   },
   "outputs": [
    {
     "name": "stdout",
     "output_type": "stream",
     "text": [
      "/bin/sh: wget: command not found\r\n"
     ]
    }
   ],
   "source": [
    "# instructor \n",
    "\n",
    "!wget -nc -q https://raw.githubusercontent.com/e9t/nsmc/master/ratings_train.txt"
   ]
  },
  {
   "cell_type": "code",
   "execution_count": 184,
   "metadata": {},
   "outputs": [],
   "source": [
    "import wget"
   ]
  },
  {
   "cell_type": "code",
   "execution_count": 185,
   "metadata": {},
   "outputs": [
    {
     "data": {
      "text/plain": [
       "4737"
      ]
     },
     "execution_count": 185,
     "metadata": {},
     "output_type": "execute_result"
    }
   ],
   "source": [
    "import codecs\n",
    "with codecs.open(\"ratings_train.txt\", encoding='utf-8') as f : \n",
    "    data = [line.split('\\t') for line in f.read().splitlines()]\n",
    "    data = data[1:] # header 제외\n",
    "    \n",
    "docs = [row[1] for row in data]\n",
    "len(docs)"
   ]
  },
  {
   "cell_type": "code",
   "execution_count": 188,
   "metadata": {},
   "outputs": [
    {
     "data": {
      "text/plain": [
       "['그/Noun', '영화/Noun', '는/Josa', '아주/Noun', '재미있었어요/Adjective']"
      ]
     },
     "execution_count": 188,
     "metadata": {},
     "output_type": "execute_result"
    }
   ],
   "source": [
    "import warnings\n",
    "warnings.simplefilter(\"ignore\")\n",
    "from konlpy.tag import Okt\n",
    "\n",
    "tagger = Okt()\n",
    "\n",
    "def tokenize(doc):\n",
    "    tokens = ['/'.join(t) for t in tagger.pos(doc)]\n",
    "    return tokens\n",
    "\n",
    "tokenize(\"그 영화는 아주 재미있었어요\")"
   ]
  },
  {
   "cell_type": "code",
   "execution_count": 190,
   "metadata": {},
   "outputs": [
    {
     "name": "stderr",
     "output_type": "stream",
     "text": [
      "100%|██████████| 4737/4737 [00:16<00:00, 294.92it/s]\n"
     ]
    }
   ],
   "source": [
    "from tqdm import tqdm\n",
    "sentences = []\n",
    "\n",
    "for d in tqdm(docs):\n",
    "    tokens= tokenize(d)\n",
    "    bigram = ngrams(tokens, 2, pad_left=True, pad_right=True, left_pad_symbol=\"SS\", right_pad_symbol=\"SE\" )\n",
    "    sentences += [t for t in bigram]"
   ]
  },
  {
   "cell_type": "code",
   "execution_count": 191,
   "metadata": {},
   "outputs": [],
   "source": [
    "cfd = ConditionalFreqDist(sentences)\n",
    "cpd = ConditionalProbDist(cfd, MLEProbDist)"
   ]
  },
  {
   "cell_type": "code",
   "execution_count": 192,
   "metadata": {},
   "outputs": [],
   "source": [
    "def korean_most_common(c, n, pos=None):\n",
    "    if pos is None:\n",
    "        return cfd[tokenize(c)[0]].most_common(n)\n",
    "    else: \n",
    "        return cfd[\"/\".join([c, pos])].most_common(n)"
   ]
  },
  {
   "cell_type": "code",
   "execution_count": 193,
   "metadata": {},
   "outputs": [
    {
     "data": {
      "text/plain": [
       "[('는/Josa', 23),\n",
       " ('의/Josa', 12),\n",
       " ('만/Josa', 8),\n",
       " ('에게/Josa', 6),\n",
       " ('이/Determiner', 4),\n",
       " ('에겐/Josa', 4),\n",
       " ('랑/Josa', 3),\n",
       " ('혼자/Noun', 2),\n",
       " ('한테/Josa', 2),\n",
       " ('에게는/Josa', 2)]"
      ]
     },
     "execution_count": 193,
     "metadata": {},
     "output_type": "execute_result"
    }
   ],
   "source": [
    "korean_most_common(\"나\", 10)"
   ]
  },
  {
   "cell_type": "code",
   "execution_count": 194,
   "metadata": {},
   "outputs": [
    {
     "data": {
      "text/plain": [
       "[('연기/Noun', 2),\n",
       " ('익살스런/Adjective', 1),\n",
       " ('김/Noun', 1),\n",
       " ('음악/Noun', 1),\n",
       " ('광기/Noun', 1),\n",
       " ('악몽/Noun', 1),\n",
       " ('festival/Alpha', 1),\n",
       " ('감독/Noun', 1),\n",
       " ('재능/Noun', 1),\n",
       " ('재치/Noun', 1)]"
      ]
     },
     "execution_count": 194,
     "metadata": {},
     "output_type": "execute_result"
    }
   ],
   "source": [
    "korean_most_common(\"의\", 10)"
   ]
  },
  {
   "cell_type": "code",
   "execution_count": 198,
   "metadata": {},
   "outputs": [
    {
     "data": {
      "text/plain": [
       "[('SE', 836),\n",
       " ('영화/Noun', 21),\n",
       " ('그리고/Conjunction', 18),\n",
       " ('정말/Noun', 17),\n",
       " ('하지만/Conjunction', 13),\n",
       " ('이런/Adjective', 12),\n",
       " ('그냥/Noun', 11),\n",
       " ('이/Noun', 11),\n",
       " ('./Punctuation', 11),\n",
       " ('진짜/Noun', 9)]"
      ]
     },
     "execution_count": 198,
     "metadata": {},
     "output_type": "execute_result"
    }
   ],
   "source": [
    "korean_most_common(\".\", 10, \"Punctuation\")"
   ]
  },
  {
   "cell_type": "code",
   "execution_count": 199,
   "metadata": {},
   "outputs": [
    {
     "data": {
      "text/plain": [
       "[('SE', 836),\n",
       " ('영화/Noun', 21),\n",
       " ('그리고/Conjunction', 18),\n",
       " ('정말/Noun', 17),\n",
       " ('하지만/Conjunction', 13),\n",
       " ('이런/Adjective', 12),\n",
       " ('그냥/Noun', 11),\n",
       " ('이/Noun', 11),\n",
       " ('./Punctuation', 11),\n",
       " ('진짜/Noun', 9)]"
      ]
     },
     "execution_count": 199,
     "metadata": {},
     "output_type": "execute_result"
    }
   ],
   "source": [
    "korean_most_common(\".\", 10)"
   ]
  },
  {
   "cell_type": "code",
   "execution_count": 200,
   "metadata": {},
   "outputs": [],
   "source": [
    "def korean_bigram_prob(c, w):\n",
    "    context = tokenize(c)[0]\n",
    "    word = tokenize(w)[0]\n",
    "    return cpd[context].prob(word)"
   ]
  },
  {
   "cell_type": "code",
   "execution_count": 201,
   "metadata": {},
   "outputs": [
    {
     "data": {
      "text/plain": [
       "0.38022813688212925"
      ]
     },
     "execution_count": 201,
     "metadata": {},
     "output_type": "execute_result"
    }
   ],
   "source": [
    "korean_bigram_prob(\"이\", \"영화\")"
   ]
  },
  {
   "cell_type": "code",
   "execution_count": null,
   "metadata": {},
   "outputs": [],
   "source": []
  }
 ],
 "metadata": {
  "kernelspec": {
   "display_name": "Python 3",
   "language": "python",
   "name": "python3"
  },
  "language_info": {
   "codemirror_mode": {
    "name": "ipython",
    "version": 3
   },
   "file_extension": ".py",
   "mimetype": "text/x-python",
   "name": "python",
   "nbconvert_exporter": "python",
   "pygments_lexer": "ipython3",
   "version": "3.7.4"
  }
 },
 "nbformat": 4,
 "nbformat_minor": 2
}
