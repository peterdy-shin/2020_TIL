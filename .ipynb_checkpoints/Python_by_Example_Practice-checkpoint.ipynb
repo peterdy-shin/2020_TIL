{
 "cells": [
  {
   "cell_type": "markdown",
   "metadata": {},
   "source": [
    "# Notes\n",
    "\n",
    "- python is case sensitive\n",
    "- text values appear in \"\". Numbers without\n",
    "- variable = container for putting data in. No space + don't start with number\n"
   ]
  },
  {
   "cell_type": "code",
   "execution_count": 3,
   "metadata": {},
   "outputs": [
    {
     "name": "stdout",
     "output_type": "stream",
     "text": [
      "I love \n",
      " you\n"
     ]
    }
   ],
   "source": [
    "# \\n  puts a line break \n",
    "\n",
    "print(\"I love \\n you\")   "
   ]
  },
  {
   "cell_type": "code",
   "execution_count": 5,
   "metadata": {},
   "outputs": [
    {
     "name": "stdout",
     "output_type": "stream",
     "text": [
      "The answer is 1\n"
     ]
    }
   ],
   "source": [
    "\n",
    "answer = 1\n",
    "print(\"The answer is\", answer )  "
   ]
  },
  {
   "cell_type": "code",
   "execution_count": 9,
   "metadata": {},
   "outputs": [
    {
     "name": "stdout",
     "output_type": "stream",
     "text": [
      "The answer is: 1\n"
     ]
    }
   ],
   "source": [
    "textValue = input(\"The answer is: \")"
   ]
  },
  {
   "cell_type": "code",
   "execution_count": 10,
   "metadata": {},
   "outputs": [
    {
     "name": "stdout",
     "output_type": "stream",
     "text": [
      "The number is : 1\n"
     ]
    }
   ],
   "source": [
    "numbValue = int(input(\"The number is : \"))"
   ]
  },
  {
   "cell_type": "code",
   "execution_count": 11,
   "metadata": {},
   "outputs": [
    {
     "data": {
      "text/plain": [
       "1"
      ]
     },
     "execution_count": 11,
     "metadata": {},
     "output_type": "execute_result"
    }
   ],
   "source": [
    "numbValue"
   ]
  },
  {
   "cell_type": "code",
   "execution_count": 18,
   "metadata": {},
   "outputs": [
    {
     "name": "stdout",
     "output_type": "stream",
     "text": [
      "What is your first name? :Peter\n",
      "Hello Peter\n"
     ]
    }
   ],
   "source": [
    "# Challenges\n",
    "\n",
    "#001\n",
    "First_name = input(\"What is your first name? :\")\n",
    "\n",
    "print (\"Hello\", First_name)"
   ]
  },
  {
   "cell_type": "code",
   "execution_count": 19,
   "metadata": {},
   "outputs": [
    {
     "name": "stdout",
     "output_type": "stream",
     "text": [
      "What is your first name? :Peter\n",
      "What is your last name? :Shin\n",
      "Hello Peter Shin\n"
     ]
    }
   ],
   "source": [
    "#002\n",
    "\n",
    "First_name = input(\"What is your first name? :\")\n",
    "Last_name = input(\"What is your last name? :\")\n",
    "\n",
    "print(\"Hello\", First_name, Last_name)"
   ]
  },
  {
   "cell_type": "code",
   "execution_count": 20,
   "metadata": {},
   "outputs": [
    {
     "name": "stdout",
     "output_type": "stream",
     "text": [
      "What do you call a bear with no teeth? \n",
      " A gummy bear!\n"
     ]
    }
   ],
   "source": [
    "#003\n",
    "\n",
    "print(\"What do you call a bear with no teeth? \\n A gummy bear!\")"
   ]
  },
  {
   "cell_type": "code",
   "execution_count": 28,
   "metadata": {},
   "outputs": [
    {
     "name": "stdout",
     "output_type": "stream",
     "text": [
      "enter a number : 1\n",
      "enter a number again:2\n",
      "The total is 3\n"
     ]
    }
   ],
   "source": [
    "#004\n",
    "no1 = int(input(\"enter a number : \"))\n",
    "no2 = int(input(\"enter a number again:\"))\n",
    "          \n",
    "answer = no1 + no2\n",
    "print(\"The total is\", answer)"
   ]
  },
  {
   "cell_type": "code",
   "execution_count": 29,
   "metadata": {},
   "outputs": [
    {
     "name": "stdout",
     "output_type": "stream",
     "text": [
      "enter a number:1\n",
      "enter a number again:2\n",
      "enter a number finally:5\n",
      "The answer is 15\n"
     ]
    }
   ],
   "source": [
    "#005\n",
    "no1 = int(input(\"enter a number:\"))\n",
    "no2 = int(input(\"enter a number again:\"))\n",
    "no3 = int(input(\"enter a number finally:\"))\n",
    "\n",
    "answer = (no1 + no2)*no3\n",
    "print(\"The answer is\", answer)"
   ]
  },
  {
   "cell_type": "code",
   "execution_count": 31,
   "metadata": {},
   "outputs": [
    {
     "name": "stdout",
     "output_type": "stream",
     "text": [
      "How many sliced of pizza do you have?: 10\n",
      "How many have you eaten? :5\n",
      "You now have 5 slices left.\n"
     ]
    }
   ],
   "source": [
    "#006\n",
    "\n",
    "pizza_start = int(input(\"How many sliced of pizza do you have?: \"))\n",
    "pizza_eaten = int(input(\"How many have you eaten? :\"))\n",
    "answer = pizza_start - pizza_eaten\n",
    "print(\"You now have\", answer, \"slices left.\")"
   ]
  },
  {
   "cell_type": "code",
   "execution_count": 32,
   "metadata": {},
   "outputs": [
    {
     "name": "stdout",
     "output_type": "stream",
     "text": [
      "what is your name?:Peter\n",
      "what is your age?: 10\n",
      "Peter , next birthday you will be 11 years old!\n"
     ]
    }
   ],
   "source": [
    "#007\n",
    "\n",
    "name = input(\"what is your name?:\")\n",
    "age = int(input(\"what is your age?: \"))\n",
    "\n",
    "age_next = age + 1\n",
    "print(name, \", next birthday you will be\", age_next, \"years old!\")"
   ]
  },
  {
   "cell_type": "code",
   "execution_count": 35,
   "metadata": {},
   "outputs": [
    {
     "name": "stdout",
     "output_type": "stream",
     "text": [
      "What is the total price of the bill?:12\n",
      "How many diners are there?:3\n",
      "You will each need to pay 4.0 dollars.\n"
     ]
    }
   ],
   "source": [
    "#008\n",
    "total_bill = int(input(\"What is the total price of the bill?:\"))\n",
    "diners = int(input(\"How many diners are there?:\"))\n",
    "\n",
    "pay = (total_bill) / diners\n",
    "\n",
    "print(\"You will each need to pay\", pay, \"dollars.\")"
   ]
  },
  {
   "cell_type": "code",
   "execution_count": 37,
   "metadata": {},
   "outputs": [
    {
     "name": "stdout",
     "output_type": "stream",
     "text": [
      "Give me a number of days! :12\n",
      "your number of days are actually 288 hours, 17280 minutes, 1036800 seconds.\n"
     ]
    }
   ],
   "source": [
    "#009\n",
    "\n",
    "days = int(input(\"Give me a number of days! :\"))\n",
    "\n",
    "hours = days * 24\n",
    "minutes = hours * 60\n",
    "secs = minutes * 60\n",
    "\n",
    "print (\"your number of days are actually\", hours, \"hours,\", minutes, \"minutes,\", secs, \"seconds.\")"
   ]
  },
  {
   "cell_type": "code",
   "execution_count": 40,
   "metadata": {},
   "outputs": [
    {
     "name": "stdout",
     "output_type": "stream",
     "text": [
      "Give me a weight in kilograms :12\n",
      "That is 26448 pounds.\n"
     ]
    }
   ],
   "source": [
    "#010\n",
    "\n",
    "kilo = int(input(\"Give me a weight in kilograms :\"))\n",
    "pounds = kilo * 2204\n",
    "print(\"That is\", pounds, \"pounds.\")"
   ]
  },
  {
   "cell_type": "code",
   "execution_count": null,
   "metadata": {},
   "outputs": [
    {
     "name": "stdout",
     "output_type": "stream",
     "text": [
      "give me a number over 100 :200\n"
     ]
    }
   ],
   "source": [
    "#011 \n",
    "\n",
    "over = int(input(\"give me a number over 100 :\"))\n",
    "under = int(input(\"give me a number lower than 10 : \"))\n",
    "times = over // under\n",
    "print(\"the smaller number\", under, \"you entered goes into\", over, \"a\", times, \"times!\")"
   ]
  },
  {
   "cell_type": "markdown",
   "metadata": {},
   "source": [
    "# If Statements\n"
   ]
  },
  {
   "cell_type": "code",
   "execution_count": null,
   "metadata": {},
   "outputs": [],
   "source": []
  },
  {
   "cell_type": "code",
   "execution_count": null,
   "metadata": {},
   "outputs": [],
   "source": []
  },
  {
   "cell_type": "code",
   "execution_count": null,
   "metadata": {},
   "outputs": [],
   "source": []
  },
  {
   "cell_type": "code",
   "execution_count": null,
   "metadata": {},
   "outputs": [],
   "source": []
  }
 ],
 "metadata": {
  "kernelspec": {
   "display_name": "Python 3",
   "language": "python",
   "name": "python3"
  },
  "language_info": {
   "codemirror_mode": {
    "name": "ipython",
    "version": 3
   },
   "file_extension": ".py",
   "mimetype": "text/x-python",
   "name": "python",
   "nbconvert_exporter": "python",
   "pygments_lexer": "ipython3",
   "version": "3.7.4"
  }
 },
 "nbformat": 4,
 "nbformat_minor": 2
}
